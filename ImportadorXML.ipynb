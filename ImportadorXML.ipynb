{
  "nbformat": 4,
  "nbformat_minor": 0,
  "metadata": {
    "colab": {
      "name": "ImportadorXML.ipynb",
      "provenance": [],
      "collapsed_sections": [],
      "authorship_tag": "ABX9TyP10gRJNT+Eo4bJIkV0HGRZ",
      "include_colab_link": true
    },
    "kernelspec": {
      "name": "python3",
      "display_name": "Python 3"
    },
    "language_info": {
      "name": "python"
    }
  },
  "cells": [
    {
      "cell_type": "markdown",
      "metadata": {
        "id": "view-in-github",
        "colab_type": "text"
      },
      "source": [
        "<a href=\"https://colab.research.google.com/github/DiegoFJusto/XML_Python/blob/main/ImportadorXML.ipynb\" target=\"_parent\"><img src=\"https://colab.research.google.com/assets/colab-badge.svg\" alt=\"Open In Colab\"/></a>"
      ]
    },
    {
      "cell_type": "markdown",
      "metadata": {
        "id": "6rmFFFSKw2Bd"
      },
      "source": [
        "**IMPORTADOR DE XML**"
      ]
    },
    {
      "cell_type": "code",
      "metadata": {
        "id": "tCbSM-SYwymJ"
      },
      "source": [
        "#!pip install Document\n",
        "from xml.dom.minidom import Document\n",
        "#!pip install parse\n",
        "from xml.dom.minidom import parse"
      ],
      "execution_count": null,
      "outputs": []
    },
    {
      "cell_type": "markdown",
      "metadata": {
        "id": "XpQTq2yOyCnd"
      },
      "source": [
        "**Podemos criar um arquivo XML ( vale de teste )**"
      ]
    },
    {
      "cell_type": "code",
      "metadata": {
        "id": "WzuzqyWiyH_V"
      },
      "source": [
        "doc = Document()\n",
        "root = doc.createElement('pais') # criamos chave raiz do xml\n",
        "sp = doc.createElement('estado') # criamos elemento filho\n",
        "mg = doc.createElement('estado')\n",
        "sts = doc.createElement('cidade') # criamos elemento neto\n",
        "sjc = doc.createElement('cidade')\n",
        "srt = doc.createElement('cidade')\n",
        "\n",
        "#atribuindo nomes as tags\n",
        "root.setAttribute('nome', 'Brasil')\n",
        "sp.setAttribute('nome', 'Sao Paulo')\n",
        "mg.setAttribute('nome', 'Minas Gerais')\n",
        "sts.setAttribute('nome', 'Santos')\n",
        "sjc.setAttribute('nome', 'Sao Jose dos Campos')\n",
        "srt.setAttribute('nome', 'Santa Rita do Sapucai')\n",
        "\n",
        "# precisamos definir quem faz parte de que chave\n",
        "doc.appendChild(root) # raiz\n",
        "root.appendChild(sp) # nivel a\n",
        "root.appendChild(mg) # nivel b\n",
        "sp.appendChild(sts) # nivel a.1\n",
        "sp.appendChild(sjc) # nivel a.2\n",
        "mg.appendChild(srt) # nivel b.1\n",
        "\n",
        "#atribuir algum valor a tag\n",
        "hab = doc.createElement('habitantes')\n",
        "sts.appendChild(hab)\n",
        "txt = doc.createTextNode('650.000')\n",
        "hab.appendChild(txt)\n",
        "\n",
        "hab2 = doc.createElement('habitantes')\n",
        "sjc.appendChild(hab2)\n",
        "txt2 = doc.createTextNode('962.500')\n",
        "hab2.appendChild(txt2)\n",
        "\n",
        "hab3 = doc.createElement('habitantes')\n",
        "srt.appendChild(hab3)\n",
        "txt3 = doc.createTextNode('121.080')\n",
        "hab3.appendChild(txt3)"
      ],
      "execution_count": null,
      "outputs": []
    },
    {
      "cell_type": "markdown",
      "metadata": {
        "id": "Qs497Vb83nps"
      },
      "source": [
        "**Criar o arquivo e conferir os dados para o xml**"
      ]
    },
    {
      "cell_type": "code",
      "metadata": {
        "id": "VtFl7zXM3nAs"
      },
      "source": [
        "doc.writexml(open('pyteste.xml', 'w'), addindent='  ', newl='\\n') #criando arquivo e determinando espaço de identação e quebra de linha\n",
        "doc.unlink() # remover sujeiras para liberar memoria\n",
        "print(doc)"
      ],
      "execution_count": null,
      "outputs": []
    },
    {
      "cell_type": "markdown",
      "metadata": {
        "id": "kBoIhQ1U75zz"
      },
      "source": [
        "**Fazer a leitura do Arquivo XML**"
      ]
    },
    {
      "cell_type": "code",
      "metadata": {
        "id": "Gq5lXMyi7_Jd"
      },
      "source": [
        "ler = parse('pyteste.xml') # abrir doc xml\n",
        "xml = ler.documentElement # puxar doc xml\n",
        "\n",
        "if xml.hasAttribute('nome'): #buscar atributos\n",
        "  pais = xml.getAttribute('nome') #pegar o atributo nome\n",
        "  print(f'Pais :{pais}') \n",
        "\n",
        "# pegar outros elementos\n",
        "estados = xml.getElementsByTagName('estado') # pegar elementos estado por tag name\n",
        "\n",
        "for info in estados: # correr o arquivo buscando os estados\n",
        "  print('*'*20)\n",
        "  if info.hasAttribute('nome') :\n",
        "    print(f'Estado: {info.getAttribute(\"nome\")}')\n",
        "\n",
        "    cidades = info.getElementsByTagName('cidade') # pegar elementos cidade por tag\n",
        "\n",
        "    for c_info in cidades : # correr o arquivo buscando as cidades\n",
        "      if c_info.hasAttribute('nome'):\n",
        "        print(f'Cidade: {c_info.getAttribute(\"nome\")}')\n",
        "\n",
        "        habitantesX = c_info.getElementsByTagName('habitantes') # pegar elementos habitantes por tag\n",
        "\n",
        "        if len(habitantesX) > 0:\n",
        "          for h_info in habitantesX: # correr o arquivo buscanco as cidades\n",
        "            cid = c_info.getAttribute('nome')\n",
        "            habX = habitantesX[0].childNodes[0].data\n",
        "            print(f'A população da cidade {cid} é de {habX} habitantes')\n"
      ],
      "execution_count": null,
      "outputs": []
    },
    {
      "cell_type": "markdown",
      "metadata": {
        "id": "ZiiW1ZzcT6I-"
      },
      "source": [
        "**Alterando elementos no xml** "
      ]
    },
    {
      "cell_type": "code",
      "metadata": {
        "id": "LXY-Io5TT5u-"
      },
      "source": [
        "habitantesX[0].firstChild.nodeValue = 100\n",
        "print(doc.toxml())\n",
        "print(habitantesX[0].childNodes[0].data)\n",
        "print(f'A população da cidade {cid} é de {habX} habitantes')"
      ],
      "execution_count": null,
      "outputs": []
    }
  ]
}